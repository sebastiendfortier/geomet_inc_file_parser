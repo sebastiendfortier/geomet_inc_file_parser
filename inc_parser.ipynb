{
 "cells": [
  {
   "cell_type": "code",
   "execution_count": 41,
   "metadata": {},
   "outputs": [
    {
     "data": {
      "text/plain": [
       "{'name': 'ABSOLUTEVORTICITY',\n",
       " 'values': [-0.0004,\n",
       "  -0.00035,\n",
       "  -0.0003,\n",
       "  -0.00025,\n",
       "  -0.0002,\n",
       "  -0.00015,\n",
       "  -0.0001,\n",
       "  -5e-05,\n",
       "  0.0,\n",
       "  5e-05,\n",
       "  0.0001,\n",
       "  0.00015,\n",
       "  0.0002,\n",
       "  0.00025,\n",
       "  0.0003,\n",
       "  0.00035,\n",
       "  0.0004,\n",
       "  0.00045,\n",
       "  0.0005,\n",
       "  0.00055],\n",
       " 'color': ['#808080',\n",
       "  '#989898',\n",
       "  '#a9a9a9',\n",
       "  '#b8b8b8',\n",
       "  '#c8c8c8',\n",
       "  '#d3d3d3',\n",
       "  '#e0e0e0',\n",
       "  '#f5f5f5',\n",
       "  '#ccffcc',\n",
       "  '#66ff66',\n",
       "  '#00cc00',\n",
       "  '#99cc00',\n",
       "  '#cccc33',\n",
       "  '#ffff00',\n",
       "  '#ffcc00',\n",
       "  '#ff9933',\n",
       "  '#ff3300',\n",
       "  '#cc0000',\n",
       "  '#800000']}"
      ]
     },
     "execution_count": 41,
     "metadata": {},
     "output_type": "execute_result"
    }
   ],
   "source": [
    "import re\n",
    "\n",
    "def parse_inc_file(file: str) -> dict:\n",
    "\n",
    "    # Define regular expressions for different parts of the content\n",
    "    regex_class = re.compile(r'.*?CLASS$')\n",
    "    regex_name = re.compile(r'.*?NAME.*?\\\"(.*?)\\\"')\n",
    "    regex_group = re.compile(r'.*?GROUP.*?\\\"(.*?)\\\"')\n",
    "    regex_expression = re.compile(r'.*?EXPRESSION.*?\\((.*?)\\)')\n",
    "    regex_style = re.compile(r'.*?STYLE$')\n",
    "    regex_color = re.compile(r'.*?COLOR\\s*?(.*?)$')\n",
    "    regex_end = re.compile(r'.*?END')\n",
    "\n",
    "    # Read the file line by line\n",
    "    with open('ABSOLUTEVORTICITY.inc', 'r') as file:\n",
    "        lines = file.readlines()\n",
    "\n",
    "\n",
    "    # Parse the file content\n",
    "    parsed_data = []\n",
    "    current_class = None\n",
    "    end_count = 0\n",
    "    for line in lines:\n",
    "        line = line.strip()\n",
    "        # pprint(line)\n",
    "\n",
    "        # Match CLASS\n",
    "        if regex_class.match(line):\n",
    "            current_class = {}\n",
    "            # pprint(current_class)\n",
    "        # Match NAME\n",
    "        elif (match := regex_name.match(line)):\n",
    "            current_class['name'] = match.group(1)\n",
    "            # pprint(current_class)\n",
    "\n",
    "        # Match GROUP\n",
    "        elif (match := regex_group.match(line)):\n",
    "            current_class['group'] = match.group(1)\n",
    "            # pprint(current_class)\n",
    "\n",
    "        # Match EXPRESSION\n",
    "        elif (match := regex_expression.match(line)):\n",
    "            pattern = r\"[-+]?\\d*\\.\\d+|[-+]?\\d+\"\n",
    "            floats = [float(num) for num in re.findall(pattern, match.group(1))]\n",
    "            current_class['expression'] = floats\n",
    "            # pprint(current_class)\n",
    "\n",
    "        # Match STYLE\n",
    "        elif regex_style.match(line):\n",
    "            current_class['style'] = {}\n",
    "            # pprint(current_class)\n",
    "\n",
    "        # Match COLOR\n",
    "        elif (match := regex_color.match(line)):\n",
    "            ints = [int(num) for num in match.group(1).split()]\n",
    "            web_color = f\"#{ints[0]:02x}{ints[1]:02x}{ints[2]:02x}\"\n",
    "            current_class['style']['color'] = web_color\n",
    "        # Match END\n",
    "        elif regex_end.match(line):\n",
    "            # print(current_class)\n",
    "            if end_count == 0:\n",
    "                end_count = 1\n",
    "            else:\n",
    "                end_count = 0\n",
    "                parsed_data.append(current_class)    \n",
    "\n",
    "    my_cmap = {}\n",
    "    my_cmap['name'] = parsed_data[0]['group']\n",
    "    my_cmap['values'] = [item['expression'][0] for item in parsed_data]\n",
    "    my_cmap['color'] = [item['style']['color'] for item in parsed_data]\n",
    "    my_cmap['values'].append(parsed_data[-1]['expression'][-1])\n",
    "    return my_cmap\n",
    "# display(parsed_data)\n",
    "# len(parsed_data) \n",
    "my_file = 'ABSOLUTEVORTICITY.inc'\n",
    "cmap_data = parse_inc_file(my_file)\n",
    "cmap_data"
   ]
  },
  {
   "cell_type": "code",
   "execution_count": 47,
   "metadata": {},
   "outputs": [
    {
     "name": "stdout",
     "output_type": "stream",
     "text": [
      "('description absolute vorticity with much more', 85)\n"
     ]
    }
   ],
   "source": [
    "from thefuzz import fuzz, process\n",
    "\n",
    "query = \"ABSOLUTEVORTICITY\"\n",
    "search_results = [\"description absolute vorticity with much more\", \"potential Vorticity\", \"Potential\", \"Temperature\"]\n",
    "\n",
    "matches = process.extractOne(query, search_results)\n",
    "print(matches)\n"
   ]
  },
  {
   "cell_type": "code",
   "execution_count": 40,
   "metadata": {
    "vscode": {
     "languageId": "html"
    }
   },
   "outputs": [
    {
     "data": {
      "text/plain": [
       "'#808080'"
      ]
     },
     "execution_count": 40,
     "metadata": {},
     "output_type": "execute_result"
    }
   ],
   "source": [
    "<span style=\"color: #808080\">This is an example of an HTML color in JupyterLab</span>\n",
    "<span style=\"color: #989898\">This is an example of an HTML color in JupyterLab</span>\n",
    "<span style=\"color: #a9a9a9\">This is an example of an HTML color in JupyterLab</span>\n",
    "<span style=\"color: #b8b8b8\">This is an example of an HTML color in JupyterLab</span>\n",
    "<span style=\"color: #c8c8c8\">This is an example of an HTML color in JupyterLab</span>\n",
    "<span style=\"color: #d3d3d3\">This is an example of an HTML color in JupyterLab</span>\n",
    "<span style=\"color: #e0e0e0\">This is an example of an HTML color in JupyterLab</span>\n",
    "<span style=\"color: #f5f5f5\">This is an example of an HTML color in JupyterLab</span>\n",
    "<span style=\"color: #ccffcc\">This is an example of an HTML color in JupyterLab</span>\n",
    "<span style=\"color: #66ff66\">This is an example of an HTML color in JupyterLab</span>\n",
    "<span style=\"color: #00cc00\">This is an example of an HTML color in JupyterLab</span>\n",
    "<span style=\"color: #99cc00\">This is an example of an HTML color in JupyterLab</span>\n",
    "<span style=\"color: #cccc33\">This is an example of an HTML color in JupyterLab</span>\n",
    "<span style=\"color: #ffff00\">This is an example of an HTML color in JupyterLab</span>\n",
    "<span style=\"color: #ffcc00\">This is an example of an HTML color in JupyterLab</span>\n",
    "<span style=\"color: #ff9933\">This is an example of an HTML color in JupyterLab</span>\n",
    "<span style=\"color: #ff3300\">This is an example of an HTML color in JupyterLab</span>\n",
    "<span style=\"color: #cc0000\">This is an example of an HTML color in JupyterLab</span>\n",
    "<span style=\"color: #800000\">This is an example of an HTML color in JupyterLab</span>"
   ]
  }
 ],
 "metadata": {
  "kernelspec": {
   "display_name": "base",
   "language": "python",
   "name": "python3"
  },
  "language_info": {
   "codemirror_mode": {
    "name": "ipython",
    "version": 3
   },
   "file_extension": ".py",
   "mimetype": "text/x-python",
   "name": "python",
   "nbconvert_exporter": "python",
   "pygments_lexer": "ipython3",
   "version": "3.10.11"
  },
  "orig_nbformat": 4
 },
 "nbformat": 4,
 "nbformat_minor": 2
}
